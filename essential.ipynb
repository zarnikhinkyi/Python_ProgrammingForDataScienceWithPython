{
 "cells": [
  {
   "cell_type": "code",
   "execution_count": 1,
   "id": "8ef995fc",
   "metadata": {},
   "outputs": [
    {
     "name": "stdout",
     "output_type": "stream",
     "text": [
      "hello\n"
     ]
    }
   ],
   "source": [
    "print('hello')"
   ]
  },
  {
   "cell_type": "markdown",
   "id": "d3249add",
   "metadata": {},
   "source": [
    "# Heading one"
   ]
  },
  {
   "cell_type": "code",
   "execution_count": 1,
   "id": "b1590535",
   "metadata": {},
   "outputs": [
    {
     "name": "stdout",
     "output_type": "stream",
     "text": [
      "hello\n"
     ]
    }
   ],
   "source": [
    "print('hello')"
   ]
  },
  {
   "cell_type": "code",
   "execution_count": 2,
   "id": "8b7da3aa",
   "metadata": {},
   "outputs": [
    {
     "name": "stdout",
     "output_type": "stream",
     "text": [
      "Welcome From\n"
     ]
    }
   ],
   "source": [
    "print('Welcome From')"
   ]
  },
  {
   "cell_type": "code",
   "execution_count": 4,
   "id": "e07a5ea9",
   "metadata": {},
   "outputs": [
    {
     "name": "stdout",
     "output_type": "stream",
     "text": [
      "Myanamr Data Science\n"
     ]
    }
   ],
   "source": [
    "print('Myanamr Data Science')"
   ]
  },
  {
   "cell_type": "code",
   "execution_count": 5,
   "id": "2b98b394",
   "metadata": {},
   "outputs": [
    {
     "name": "stdout",
     "output_type": "stream",
     "text": [
      "Hello World\n"
     ]
    }
   ],
   "source": [
    "print('Hello World')"
   ]
  },
  {
   "cell_type": "markdown",
   "id": "bbc7dce2",
   "metadata": {},
   "source": [
    ">Block quote is something like this"
   ]
  },
  {
   "cell_type": "markdown",
   "id": "a794df48",
   "metadata": {},
   "source": [
    "# Heading one"
   ]
  },
  {
   "cell_type": "markdown",
   "id": "6d252ea4",
   "metadata": {},
   "source": [
    "## Heading two\n",
    "### Heading Three\n",
    "#### Heading Four"
   ]
  },
  {
   "cell_type": "code",
   "execution_count": 1,
   "id": "48a4a87e",
   "metadata": {},
   "outputs": [
    {
     "data": {
      "application/vnd.jupyter.widget-view+json": {
       "model_id": "79663171d2434d3a99aeb733d119868a",
       "version_major": 2,
       "version_minor": 0
      },
      "text/plain": [
       "IntSlider(value=0)"
      ]
     },
     "metadata": {},
     "output_type": "display_data"
    }
   ],
   "source": [
    "import ipywidgets as widgets\n",
    "widgets.IntSlider()"
   ]
  },
  {
   "cell_type": "markdown",
   "id": "933e1727",
   "metadata": {},
   "source": [
    "> Block quote is __something__ like this"
   ]
  },
  {
   "cell_type": "markdown",
   "id": "975489f9",
   "metadata": {},
   "source": [
    "> Block quote is _something_ like this!"
   ]
  },
  {
   "cell_type": "markdown",
   "id": "6963451a",
   "metadata": {},
   "source": [
    "[Go to Myanmar Data Science Website](https://www.myanmardatascienc.com)"
   ]
  },
  {
   "cell_type": "markdown",
   "id": "5481db8e",
   "metadata": {},
   "source": [
    "*first item\n",
    "+second item\n",
    "-third item"
   ]
  },
  {
   "cell_type": "markdown",
   "id": "9cb240f7",
   "metadata": {},
   "source": [
    "* first item\n",
    "+ second item\n",
    "- third item"
   ]
  },
  {
   "cell_type": "code",
   "execution_count": null,
   "id": "377a1dcc",
   "metadata": {},
   "outputs": [],
   "source": [
    "* first item"
   ]
  },
  {
   "cell_type": "markdown",
   "id": "a2e1e220",
   "metadata": {},
   "source": [
    "* first item"
   ]
  },
  {
   "cell_type": "markdown",
   "id": "60a375e0",
   "metadata": {},
   "source": [
    "* first item\n",
    "+ second item\n",
    "- third item"
   ]
  },
  {
   "cell_type": "markdown",
   "id": "a307d119",
   "metadata": {},
   "source": [
    "[![my image](http://img.youtube.com/vi/QUf09DWDCZ8&list/0.jpg)]\n",
    "(http://www.youtube.com/watch?v=QUf09DWDCZ8&list)"
   ]
  },
  {
   "cell_type": "markdown",
   "id": "7310d65a",
   "metadata": {},
   "source": [
    "[![my image](http://img.youtube.com/vi/QUf09DWDCZ8/0.jpg)]\n",
    "(http://www.youtube.com/watch?v=QUf09DWDCZ8)"
   ]
  },
  {
   "cell_type": "code",
   "execution_count": null,
   "id": "1629df3a",
   "metadata": {},
   "outputs": [],
   "source": []
  }
 ],
 "metadata": {
  "celltoolbar": "Raw Cell Format",
  "kernelspec": {
   "display_name": "Python 3 (ipykernel)",
   "language": "python",
   "name": "python3"
  },
  "language_info": {
   "codemirror_mode": {
    "name": "ipython",
    "version": 3
   },
   "file_extension": ".py",
   "mimetype": "text/x-python",
   "name": "python",
   "nbconvert_exporter": "python",
   "pygments_lexer": "ipython3",
   "version": "3.9.12"
  },
  "widgets": {
   "application/vnd.jupyter.widget-state+json": {
    "state": {
     "40763bc771ca450887bcee545cb5b1bd": {
      "model_module": "@jupyter-widgets/base",
      "model_module_version": "1.2.0",
      "model_name": "LayoutModel",
      "state": {}
     },
     "6ccdcd5e6482428bb3a6e5f71afba140": {
      "model_module": "@jupyter-widgets/controls",
      "model_module_version": "1.5.0",
      "model_name": "SliderStyleModel",
      "state": {
       "description_width": ""
      }
     },
     "dd612ec39b0a4281a56d73a702a995c8": {
      "model_module": "@jupyter-widgets/controls",
      "model_module_version": "1.5.0",
      "model_name": "IntSliderModel",
      "state": {
       "layout": "IPY_MODEL_40763bc771ca450887bcee545cb5b1bd",
       "style": "IPY_MODEL_6ccdcd5e6482428bb3a6e5f71afba140",
       "value": 50
      }
     }
    },
    "version_major": 2,
    "version_minor": 0
   }
  }
 },
 "nbformat": 4,
 "nbformat_minor": 5
}
