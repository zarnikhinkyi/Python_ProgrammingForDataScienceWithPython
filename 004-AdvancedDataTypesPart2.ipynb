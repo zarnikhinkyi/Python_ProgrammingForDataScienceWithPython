{
 "cells": [
  {
   "cell_type": "code",
   "execution_count": 1,
   "id": "fc026a8b",
   "metadata": {},
   "outputs": [
    {
     "data": {
      "text/plain": [
       "{1, 2, 3, 4, 5}"
      ]
     },
     "execution_count": 1,
     "metadata": {},
     "output_type": "execute_result"
    }
   ],
   "source": [
    "num_set={1,2,3,4,5}\n",
    "num_set"
   ]
  },
  {
   "cell_type": "code",
   "execution_count": 2,
   "id": "d2fca63d",
   "metadata": {},
   "outputs": [
    {
     "ename": "TypeError",
     "evalue": "'set' object is not subscriptable",
     "output_type": "error",
     "traceback": [
      "\u001b[1;31m---------------------------------------------------------------------------\u001b[0m",
      "\u001b[1;31mTypeError\u001b[0m                                 Traceback (most recent call last)",
      "Input \u001b[1;32mIn [2]\u001b[0m, in \u001b[0;36m<cell line: 1>\u001b[1;34m()\u001b[0m\n\u001b[1;32m----> 1\u001b[0m \u001b[43mnum_set\u001b[49m\u001b[43m[\u001b[49m\u001b[38;5;241;43m0\u001b[39;49m\u001b[43m]\u001b[49m\n",
      "\u001b[1;31mTypeError\u001b[0m: 'set' object is not subscriptable"
     ]
    }
   ],
   "source": [
    "num_set[0]"
   ]
  },
  {
   "cell_type": "code",
   "execution_count": 3,
   "id": "37932adf",
   "metadata": {},
   "outputs": [
    {
     "data": {
      "text/plain": [
       "True"
      ]
     },
     "execution_count": 3,
     "metadata": {},
     "output_type": "execute_result"
    }
   ],
   "source": [
    "1 in num_set"
   ]
  },
  {
   "cell_type": "code",
   "execution_count": 4,
   "id": "a5343ba2",
   "metadata": {},
   "outputs": [
    {
     "data": {
      "text/plain": [
       "False"
      ]
     },
     "execution_count": 4,
     "metadata": {},
     "output_type": "execute_result"
    }
   ],
   "source": [
    "6 in num_set"
   ]
  },
  {
   "cell_type": "code",
   "execution_count": 5,
   "id": "dddbcd92",
   "metadata": {},
   "outputs": [
    {
     "data": {
      "text/plain": [
       "{1, 2, 3, 4, 5, 6}"
      ]
     },
     "execution_count": 5,
     "metadata": {},
     "output_type": "execute_result"
    }
   ],
   "source": [
    "num_set.add(6)\n",
    "num_set"
   ]
  },
  {
   "cell_type": "code",
   "execution_count": 6,
   "id": "3545a083",
   "metadata": {},
   "outputs": [
    {
     "data": {
      "text/plain": [
       "{1, 2, 3, 4, 5, 6, 7, 8}"
      ]
     },
     "execution_count": 6,
     "metadata": {},
     "output_type": "execute_result"
    }
   ],
   "source": [
    "num_set.update([7,8])\n",
    "num_set"
   ]
  },
  {
   "cell_type": "code",
   "execution_count": 7,
   "id": "919ea2dc",
   "metadata": {},
   "outputs": [
    {
     "data": {
      "text/plain": [
       "{2, 3, 4, 5, 6, 7, 8}"
      ]
     },
     "execution_count": 7,
     "metadata": {},
     "output_type": "execute_result"
    }
   ],
   "source": [
    "num_set.remove(1)\n",
    "num_set"
   ]
  },
  {
   "cell_type": "code",
   "execution_count": 8,
   "id": "2a483f05",
   "metadata": {},
   "outputs": [
    {
     "name": "stdout",
     "output_type": "stream",
     "text": [
      "2\n"
     ]
    },
    {
     "data": {
      "text/plain": [
       "{3, 4, 5, 6, 7, 8}"
      ]
     },
     "execution_count": 8,
     "metadata": {},
     "output_type": "execute_result"
    }
   ],
   "source": [
    "pop_item=num_set.pop()\n",
    "\n",
    "print(pop_item)\n",
    "num_set"
   ]
  },
  {
   "cell_type": "code",
   "execution_count": 9,
   "id": "9710200e",
   "metadata": {},
   "outputs": [
    {
     "data": {
      "text/plain": [
       "set()"
      ]
     },
     "execution_count": 9,
     "metadata": {},
     "output_type": "execute_result"
    }
   ],
   "source": [
    "num_set.clear()\n",
    "num_set"
   ]
  },
  {
   "cell_type": "code",
   "execution_count": 10,
   "id": "a703d779",
   "metadata": {},
   "outputs": [],
   "source": [
    "del num_set"
   ]
  },
  {
   "cell_type": "code",
   "execution_count": 11,
   "id": "4a08983c",
   "metadata": {},
   "outputs": [
    {
     "ename": "NameError",
     "evalue": "name 'num_set' is not defined",
     "output_type": "error",
     "traceback": [
      "\u001b[1;31m---------------------------------------------------------------------------\u001b[0m",
      "\u001b[1;31mNameError\u001b[0m                                 Traceback (most recent call last)",
      "Input \u001b[1;32mIn [11]\u001b[0m, in \u001b[0;36m<cell line: 1>\u001b[1;34m()\u001b[0m\n\u001b[1;32m----> 1\u001b[0m \u001b[43mnum_set\u001b[49m\n",
      "\u001b[1;31mNameError\u001b[0m: name 'num_set' is not defined"
     ]
    }
   ],
   "source": [
    "num_set"
   ]
  },
  {
   "cell_type": "code",
   "execution_count": 12,
   "id": "b4b5e5ea",
   "metadata": {},
   "outputs": [
    {
     "data": {
      "text/plain": [
       "{'Child', 'Daddy', 'Daughter', 'Mommy', 'son'}"
      ]
     },
     "execution_count": 12,
     "metadata": {},
     "output_type": "execute_result"
    }
   ],
   "source": [
    "male={'Daddy','son','Child'}\n",
    "female={'Mommy','Daughter','Child'}\n",
    "family=male.union(female)\n",
    "family"
   ]
  },
  {
   "cell_type": "code",
   "execution_count": 13,
   "id": "ec650a70",
   "metadata": {},
   "outputs": [
    {
     "data": {
      "text/plain": [
       "{'Child'}"
      ]
     },
     "execution_count": 13,
     "metadata": {},
     "output_type": "execute_result"
    }
   ],
   "source": [
    "common_item=male.intersection(female)\n",
    "common_item"
   ]
  },
  {
   "cell_type": "code",
   "execution_count": 14,
   "id": "612a6754",
   "metadata": {},
   "outputs": [
    {
     "data": {
      "text/plain": [
       "{'Child', 'Daddy', 'Daughter', 'Mommy', 'son'}"
      ]
     },
     "execution_count": 14,
     "metadata": {},
     "output_type": "execute_result"
    }
   ],
   "source": [
    "copy_family=family.copy()\n",
    "copy_family"
   ]
  },
  {
   "cell_type": "code",
   "execution_count": 15,
   "id": "9f078a9b",
   "metadata": {},
   "outputs": [
    {
     "data": {
      "text/plain": [
       "{'Jan': 31, 'Feb': 28, 'Mar': 31, 'Apr': 30}"
      ]
     },
     "execution_count": 15,
     "metadata": {},
     "output_type": "execute_result"
    }
   ],
   "source": [
    "months={'Jan':31,'Feb':28,'Mar':31,'Apr':30}\n",
    "months"
   ]
  },
  {
   "cell_type": "code",
   "execution_count": 16,
   "id": "8d3c70f3",
   "metadata": {},
   "outputs": [
    {
     "data": {
      "text/plain": [
       "28"
      ]
     },
     "execution_count": 16,
     "metadata": {},
     "output_type": "execute_result"
    }
   ],
   "source": [
    "months['Feb']"
   ]
  },
  {
   "cell_type": "code",
   "execution_count": 17,
   "id": "aa9c0b42",
   "metadata": {},
   "outputs": [
    {
     "data": {
      "text/plain": [
       "2"
      ]
     },
     "execution_count": 17,
     "metadata": {},
     "output_type": "execute_result"
    }
   ],
   "source": [
    "garbage={1:'One','Two':2}\n",
    "garbage['Two']"
   ]
  },
  {
   "cell_type": "code",
   "execution_count": 18,
   "id": "c00e0744",
   "metadata": {},
   "outputs": [
    {
     "ename": "KeyError",
     "evalue": "'One'",
     "output_type": "error",
     "traceback": [
      "\u001b[1;31m---------------------------------------------------------------------------\u001b[0m",
      "\u001b[1;31mKeyError\u001b[0m                                  Traceback (most recent call last)",
      "Input \u001b[1;32mIn [18]\u001b[0m, in \u001b[0;36m<cell line: 1>\u001b[1;34m()\u001b[0m\n\u001b[1;32m----> 1\u001b[0m \u001b[43mgarbage\u001b[49m\u001b[43m[\u001b[49m\u001b[38;5;124;43m'\u001b[39;49m\u001b[38;5;124;43mOne\u001b[39;49m\u001b[38;5;124;43m'\u001b[39;49m\u001b[43m]\u001b[49m\n",
      "\u001b[1;31mKeyError\u001b[0m: 'One'"
     ]
    }
   ],
   "source": [
    "garbage['One']"
   ]
  },
  {
   "cell_type": "code",
   "execution_count": 19,
   "id": "d8da510e",
   "metadata": {},
   "outputs": [
    {
     "data": {
      "text/plain": [
       "True"
      ]
     },
     "execution_count": 19,
     "metadata": {},
     "output_type": "execute_result"
    }
   ],
   "source": [
    "'Jan' in months"
   ]
  },
  {
   "cell_type": "code",
   "execution_count": 20,
   "id": "e7a419b2",
   "metadata": {},
   "outputs": [
    {
     "data": {
      "text/plain": [
       "False"
      ]
     },
     "execution_count": 20,
     "metadata": {},
     "output_type": "execute_result"
    }
   ],
   "source": [
    "31 in months"
   ]
  },
  {
   "cell_type": "code",
   "execution_count": 21,
   "id": "a2134bad",
   "metadata": {},
   "outputs": [
    {
     "data": {
      "text/plain": [
       "31"
      ]
     },
     "execution_count": 21,
     "metadata": {},
     "output_type": "execute_result"
    }
   ],
   "source": [
    "months.get('Jan')\n"
   ]
  },
  {
   "cell_type": "code",
   "execution_count": 22,
   "id": "c61142e2",
   "metadata": {},
   "outputs": [],
   "source": [
    "months.get('Dec')"
   ]
  },
  {
   "cell_type": "code",
   "execution_count": 1,
   "id": "fccc857b",
   "metadata": {},
   "outputs": [
    {
     "data": {
      "text/plain": [
       "{1, 2, 3, 4, 5}"
      ]
     },
     "execution_count": 1,
     "metadata": {},
     "output_type": "execute_result"
    }
   ],
   "source": [
    "num_set={1,2,1,3,4,5}\n",
    "num_set"
   ]
  },
  {
   "cell_type": "code",
   "execution_count": 2,
   "id": "b82c8a8a",
   "metadata": {},
   "outputs": [
    {
     "ename": "TypeError",
     "evalue": "'set' object is not subscriptable",
     "output_type": "error",
     "traceback": [
      "\u001b[1;31m---------------------------------------------------------------------------\u001b[0m",
      "\u001b[1;31mTypeError\u001b[0m                                 Traceback (most recent call last)",
      "Input \u001b[1;32mIn [2]\u001b[0m, in \u001b[0;36m<cell line: 1>\u001b[1;34m()\u001b[0m\n\u001b[1;32m----> 1\u001b[0m \u001b[43mnum_set\u001b[49m\u001b[43m[\u001b[49m\u001b[38;5;241;43m0\u001b[39;49m\u001b[43m]\u001b[49m\n",
      "\u001b[1;31mTypeError\u001b[0m: 'set' object is not subscriptable"
     ]
    }
   ],
   "source": [
    "num_set[0]"
   ]
  },
  {
   "cell_type": "code",
   "execution_count": 3,
   "id": "bd1e73a1",
   "metadata": {},
   "outputs": [
    {
     "data": {
      "text/plain": [
       "True"
      ]
     },
     "execution_count": 3,
     "metadata": {},
     "output_type": "execute_result"
    }
   ],
   "source": [
    "1 in num_set"
   ]
  },
  {
   "cell_type": "code",
   "execution_count": 4,
   "id": "36e9e224",
   "metadata": {},
   "outputs": [
    {
     "data": {
      "text/plain": [
       "False"
      ]
     },
     "execution_count": 4,
     "metadata": {},
     "output_type": "execute_result"
    }
   ],
   "source": [
    "6 in num_set"
   ]
  },
  {
   "cell_type": "code",
   "execution_count": 5,
   "id": "d0f9ef4f",
   "metadata": {},
   "outputs": [
    {
     "data": {
      "text/plain": [
       "{1, 2, 3, 4, 5, 6}"
      ]
     },
     "execution_count": 5,
     "metadata": {},
     "output_type": "execute_result"
    }
   ],
   "source": [
    "num_set.add(6)\n",
    "num_set\n"
   ]
  },
  {
   "cell_type": "code",
   "execution_count": 6,
   "id": "c6adf03e",
   "metadata": {},
   "outputs": [
    {
     "data": {
      "text/plain": [
       "{1, 2, 3, 4, 5, 6, 7, 8}"
      ]
     },
     "execution_count": 6,
     "metadata": {},
     "output_type": "execute_result"
    }
   ],
   "source": [
    "num_set.update([7,8])\n",
    "num_set"
   ]
  },
  {
   "cell_type": "code",
   "execution_count": 7,
   "id": "cf5bc97f",
   "metadata": {},
   "outputs": [
    {
     "data": {
      "text/plain": [
       "{2, 3, 4, 5, 6, 7, 8}"
      ]
     },
     "execution_count": 7,
     "metadata": {},
     "output_type": "execute_result"
    }
   ],
   "source": [
    "num_set.remove(1)\n",
    "num_set"
   ]
  },
  {
   "cell_type": "code",
   "execution_count": 8,
   "id": "d49c4845",
   "metadata": {},
   "outputs": [
    {
     "name": "stdout",
     "output_type": "stream",
     "text": [
      "2\n"
     ]
    }
   ],
   "source": [
    "pop_item=num_set.pop()\n",
    "print(pop_item)"
   ]
  },
  {
   "cell_type": "code",
   "execution_count": 9,
   "id": "87497681",
   "metadata": {},
   "outputs": [
    {
     "data": {
      "text/plain": [
       "{3, 4, 5, 6, 7, 8}"
      ]
     },
     "execution_count": 9,
     "metadata": {},
     "output_type": "execute_result"
    }
   ],
   "source": [
    "num_set"
   ]
  },
  {
   "cell_type": "code",
   "execution_count": 10,
   "id": "4d99d452",
   "metadata": {},
   "outputs": [
    {
     "data": {
      "text/plain": [
       "set()"
      ]
     },
     "execution_count": 10,
     "metadata": {},
     "output_type": "execute_result"
    }
   ],
   "source": [
    "num_set.clear()\n",
    "num_set"
   ]
  },
  {
   "cell_type": "code",
   "execution_count": 11,
   "id": "b200da6f",
   "metadata": {},
   "outputs": [
    {
     "ename": "NameError",
     "evalue": "name 'num_set' is not defined",
     "output_type": "error",
     "traceback": [
      "\u001b[1;31m---------------------------------------------------------------------------\u001b[0m",
      "\u001b[1;31mNameError\u001b[0m                                 Traceback (most recent call last)",
      "Input \u001b[1;32mIn [11]\u001b[0m, in \u001b[0;36m<cell line: 2>\u001b[1;34m()\u001b[0m\n\u001b[0;32m      1\u001b[0m \u001b[38;5;28;01mdel\u001b[39;00m num_set\n\u001b[1;32m----> 2\u001b[0m \u001b[43mnum_set\u001b[49m\n",
      "\u001b[1;31mNameError\u001b[0m: name 'num_set' is not defined"
     ]
    }
   ],
   "source": [
    "del num_set\n",
    "num_set"
   ]
  },
  {
   "cell_type": "code",
   "execution_count": 12,
   "id": "a943ee39",
   "metadata": {},
   "outputs": [
    {
     "data": {
      "text/plain": [
       "{'Child', 'Daddy', 'Daughter', 'Mommy', 'Son'}"
      ]
     },
     "execution_count": 12,
     "metadata": {},
     "output_type": "execute_result"
    }
   ],
   "source": [
    "male={'Daddy','Son','Child'}\n",
    "female={'Mommy','Daughter','Child'}\n",
    "family=male.union(female)\n",
    "family"
   ]
  },
  {
   "cell_type": "code",
   "execution_count": 14,
   "id": "e11ffda1",
   "metadata": {},
   "outputs": [
    {
     "data": {
      "text/plain": [
       "{'Child'}"
      ]
     },
     "execution_count": 14,
     "metadata": {},
     "output_type": "execute_result"
    }
   ],
   "source": [
    "common_item=male.intersection(female)\n",
    "common_item"
   ]
  },
  {
   "cell_type": "code",
   "execution_count": 15,
   "id": "27ce75e8",
   "metadata": {},
   "outputs": [
    {
     "data": {
      "text/plain": [
       "{'Child', 'Daddy', 'Daughter', 'Mommy', 'Son'}"
      ]
     },
     "execution_count": 15,
     "metadata": {},
     "output_type": "execute_result"
    }
   ],
   "source": [
    "copy_family=family.copy()\n",
    "copy_family"
   ]
  },
  {
   "cell_type": "code",
   "execution_count": 16,
   "id": "d9da6a1d",
   "metadata": {},
   "outputs": [
    {
     "data": {
      "text/plain": [
       "{'Jan': 31, 'Feb': 28, 'Mar': 31, 'Apr': 30}"
      ]
     },
     "execution_count": 16,
     "metadata": {},
     "output_type": "execute_result"
    }
   ],
   "source": [
    "months={'Jan':31,'Feb':28,'Mar':31,'Apr':30}\n",
    "months"
   ]
  },
  {
   "cell_type": "code",
   "execution_count": 17,
   "id": "6a2c1a50",
   "metadata": {},
   "outputs": [
    {
     "data": {
      "text/plain": [
       "28"
      ]
     },
     "execution_count": 17,
     "metadata": {},
     "output_type": "execute_result"
    }
   ],
   "source": [
    "months['Feb']"
   ]
  },
  {
   "cell_type": "code",
   "execution_count": 18,
   "id": "e9414546",
   "metadata": {},
   "outputs": [
    {
     "data": {
      "text/plain": [
       "31"
      ]
     },
     "execution_count": 18,
     "metadata": {},
     "output_type": "execute_result"
    }
   ],
   "source": [
    "months['Jan']"
   ]
  },
  {
   "cell_type": "code",
   "execution_count": 19,
   "id": "8d6e31c2",
   "metadata": {},
   "outputs": [
    {
     "data": {
      "text/plain": [
       "2"
      ]
     },
     "execution_count": 19,
     "metadata": {},
     "output_type": "execute_result"
    }
   ],
   "source": [
    "garbage={1:'One','Two':2}\n",
    "garbage['Two']"
   ]
  },
  {
   "cell_type": "code",
   "execution_count": 20,
   "id": "6fbf66ba",
   "metadata": {},
   "outputs": [
    {
     "data": {
      "text/plain": [
       "'One'"
      ]
     },
     "execution_count": 20,
     "metadata": {},
     "output_type": "execute_result"
    }
   ],
   "source": [
    "garbage[1]"
   ]
  },
  {
   "cell_type": "code",
   "execution_count": 21,
   "id": "3b1e3640",
   "metadata": {},
   "outputs": [
    {
     "data": {
      "text/plain": [
       "True"
      ]
     },
     "execution_count": 21,
     "metadata": {},
     "output_type": "execute_result"
    }
   ],
   "source": [
    "'Jan' in months"
   ]
  },
  {
   "cell_type": "code",
   "execution_count": 22,
   "id": "82ee50a8",
   "metadata": {},
   "outputs": [
    {
     "data": {
      "text/plain": [
       "False"
      ]
     },
     "execution_count": 22,
     "metadata": {},
     "output_type": "execute_result"
    }
   ],
   "source": [
    "31 in months"
   ]
  },
  {
   "cell_type": "code",
   "execution_count": 23,
   "id": "cbe4eac1",
   "metadata": {},
   "outputs": [
    {
     "data": {
      "text/plain": [
       "31"
      ]
     },
     "execution_count": 23,
     "metadata": {},
     "output_type": "execute_result"
    }
   ],
   "source": [
    "months.get('Jan')"
   ]
  },
  {
   "cell_type": "code",
   "execution_count": 24,
   "id": "c293f0e0",
   "metadata": {},
   "outputs": [],
   "source": [
    "months.get('Dec')"
   ]
  },
  {
   "cell_type": "code",
   "execution_count": 27,
   "id": "6cb4b452",
   "metadata": {},
   "outputs": [
    {
     "data": {
      "text/plain": [
       "{'Jan': 31, 'Feb': 28, 'Mar': 31, 'Apr': 30}"
      ]
     },
     "execution_count": 27,
     "metadata": {},
     "output_type": "execute_result"
    }
   ],
   "source": [
    "copy_months=months.copy()\n",
    "copy_months"
   ]
  },
  {
   "cell_type": "code",
   "execution_count": 28,
   "id": "3aac3932",
   "metadata": {},
   "outputs": [
    {
     "data": {
      "text/plain": [
       "{'Jan': 31, 'Feb': 29, 'Mar': 31, 'Apr': 30}"
      ]
     },
     "execution_count": 28,
     "metadata": {},
     "output_type": "execute_result"
    }
   ],
   "source": [
    "months['Feb']=29\n",
    "months"
   ]
  },
  {
   "cell_type": "code",
   "execution_count": 29,
   "id": "5bf951eb",
   "metadata": {},
   "outputs": [
    {
     "data": {
      "text/plain": [
       "{'Feb': 29, 'Mar': 31, 'Apr': 30}"
      ]
     },
     "execution_count": 29,
     "metadata": {},
     "output_type": "execute_result"
    }
   ],
   "source": [
    "months.pop('Jan')\n",
    "months"
   ]
  },
  {
   "cell_type": "code",
   "execution_count": 30,
   "id": "15414b4a",
   "metadata": {},
   "outputs": [
    {
     "data": {
      "text/plain": [
       "{}"
      ]
     },
     "execution_count": 30,
     "metadata": {},
     "output_type": "execute_result"
    }
   ],
   "source": [
    "months.clear()\n",
    "months"
   ]
  },
  {
   "cell_type": "code",
   "execution_count": null,
   "id": "5362b3dd",
   "metadata": {},
   "outputs": [],
   "source": []
  }
 ],
 "metadata": {
  "kernelspec": {
   "display_name": "Python 3 (ipykernel)",
   "language": "python",
   "name": "python3"
  },
  "language_info": {
   "codemirror_mode": {
    "name": "ipython",
    "version": 3
   },
   "file_extension": ".py",
   "mimetype": "text/x-python",
   "name": "python",
   "nbconvert_exporter": "python",
   "pygments_lexer": "ipython3",
   "version": "3.9.12"
  }
 },
 "nbformat": 4,
 "nbformat_minor": 5
}
