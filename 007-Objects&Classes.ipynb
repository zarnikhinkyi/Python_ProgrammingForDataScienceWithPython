{
 "cells": [
  {
   "cell_type": "code",
   "execution_count": 4,
   "id": "797b235a",
   "metadata": {},
   "outputs": [
    {
     "name": "stdout",
     "output_type": "stream",
     "text": [
      "<__main__.Car object at 0x0000021FAF780220>\n"
     ]
    }
   ],
   "source": [
    "class Car:\n",
    "    brand ='Toyota'\n",
    "    def drive(self):\n",
    "        print(self.brand,'car is driving')\n",
    "my_new_car=Car()\n",
    "print(my_new_car)"
   ]
  },
  {
   "cell_type": "code",
   "execution_count": 5,
   "id": "20af60bd",
   "metadata": {},
   "outputs": [
    {
     "name": "stdout",
     "output_type": "stream",
     "text": [
      "Toyota car is driving\n"
     ]
    }
   ],
   "source": [
    "\n",
    "my_new_car.drive()"
   ]
  },
  {
   "cell_type": "code",
   "execution_count": 3,
   "id": "61e195ed",
   "metadata": {},
   "outputs": [
    {
     "name": "stdout",
     "output_type": "stream",
     "text": [
      "Toyota\n"
     ]
    }
   ],
   "source": [
    "print(my_new_car.brand)"
   ]
  },
  {
   "cell_type": "code",
   "execution_count": 1,
   "id": "19fa13be",
   "metadata": {},
   "outputs": [
    {
     "name": "stdout",
     "output_type": "stream",
     "text": [
      "Toyota  car is driving\n"
     ]
    }
   ],
   "source": [
    "class Car:\n",
    "    def drive(self):\n",
    "        print(self.brand,' car is driving')\n",
    "    def get_speed(self):\n",
    "        print(self.speed,'is my top-speed')\n",
    "    def get_gear(self):\n",
    "        print(self.gear,'gear')\n",
    "my_new_car=Car()\n",
    "my_new_car.brand='Toyota'\n",
    "my_new_car.drive()"
   ]
  },
  {
   "cell_type": "code",
   "execution_count": 2,
   "id": "380c57f1",
   "metadata": {},
   "outputs": [
    {
     "name": "stdout",
     "output_type": "stream",
     "text": [
      "Toyota  car is driving\n"
     ]
    }
   ],
   "source": [
    "toyota=Car()\n",
    "toyota.brand='Toyota'\n",
    "toyota.speed=150\n",
    "toyota.gear='Auto'\n",
    "toyota.drive()"
   ]
  },
  {
   "cell_type": "code",
   "execution_count": 4,
   "id": "f624e0c6",
   "metadata": {},
   "outputs": [
    {
     "name": "stdout",
     "output_type": "stream",
     "text": [
      "150 is my top-speed\n",
      "Auto gear\n"
     ]
    }
   ],
   "source": [
    "toyota.get_speed()\n",
    "toyota.get_gear()"
   ]
  },
  {
   "cell_type": "code",
   "execution_count": 5,
   "id": "7d446270",
   "metadata": {},
   "outputs": [
    {
     "name": "stdout",
     "output_type": "stream",
     "text": [
      "bmw  car is driving\n",
      "180 is my top-speed\n",
      "Auto gear\n"
     ]
    }
   ],
   "source": [
    "bmw=Car()\n",
    "bmw.brand='bmw'\n",
    "bmw.speed=180\n",
    "bmw.gear='Auto'\n",
    "\n",
    "bmw.drive()\n",
    "bmw.get_speed()\n",
    "bmw.get_gear()"
   ]
  },
  {
   "cell_type": "code",
   "execution_count": 7,
   "id": "40df168d",
   "metadata": {},
   "outputs": [
    {
     "name": "stdout",
     "output_type": "stream",
     "text": [
      "Honda  car is driving\n",
      "175 is my top-speed\n",
      "Manual gear\n"
     ]
    }
   ],
   "source": [
    "honda=Car()\n",
    "honda.brand='Honda'\n",
    "honda.speed=175\n",
    "honda.gear='Manual'\n",
    "\n",
    "honda.drive()\n",
    "honda.get_speed()\n",
    "honda.get_gear()"
   ]
  },
  {
   "cell_type": "code",
   "execution_count": 5,
   "id": "a63f61ef",
   "metadata": {
    "scrolled": true
   },
   "outputs": [
    {
     "name": "stdout",
     "output_type": "stream",
     "text": [
      "I made a new car Nissan Red 140 Auto\n"
     ]
    }
   ],
   "source": [
    "class SuperCar:\n",
    "    def __init__(self,brand,color,speed,gear):\n",
    "        self.brand=brand\n",
    "        self.color=color\n",
    "        self.speed=speed\n",
    "        self.gear=gear\n",
    "        \n",
    "    def make_car(self):\n",
    "        print('I made a new car',self.brand,self.color,self.speed,self.gear)\n",
    "   \n",
    "    def drive(self):\n",
    "        print(self.brand, 'car is driving')\n",
    "        \n",
    "    def get_speed(self):\n",
    "        print(self.speed, 'is my top-speed')\n",
    "        \n",
    "    def get_gear(self):\n",
    "        print(self.gear,'gear')\n",
    "        \n",
    "nissan=SuperCar('Nissan','Red',140,'Auto')\n",
    "nissan.make_car()"
   ]
  },
  {
   "cell_type": "code",
   "execution_count": 6,
   "id": "01732533",
   "metadata": {},
   "outputs": [
    {
     "name": "stdout",
     "output_type": "stream",
     "text": [
      "<__main__.SuperCar object at 0x000001D014198490>\n",
      "<__main__.SuperCar object at 0x000001D014198880>\n"
     ]
    }
   ],
   "source": [
    "bmw=SuperCar('BMW','Black','200','Manual')\n",
    "honda=SuperCar('Honda','White','180','Auto')\n",
    "\n",
    "print(bmw)\n",
    "print(honda)"
   ]
  },
  {
   "cell_type": "code",
   "execution_count": 12,
   "id": "7dbfc8a9",
   "metadata": {
    "scrolled": true
   },
   "outputs": [
    {
     "name": "stdout",
     "output_type": "stream",
     "text": [
      "I made a new car BMW Black 200 Manual\n",
      "BMW car is driving\n",
      "200 is my top-speed\n",
      "Manual gear\n",
      "I made a new car Honda White 180 Auto\n",
      "Honda car is driving\n",
      "180 is my top-speed\n",
      "Auto gear\n"
     ]
    }
   ],
   "source": [
    "bmw.make_car()\n",
    "bmw.drive()\n",
    "bmw.get_speed()\n",
    "bmw.get_gear()\n",
    "\n",
    "honda.make_car()\n",
    "honda.drive()\n",
    "honda.get_speed()\n",
    "honda.get_gear()\n"
   ]
  }
 ],
 "metadata": {
  "kernelspec": {
   "display_name": "Python 3 (ipykernel)",
   "language": "python",
   "name": "python3"
  },
  "language_info": {
   "codemirror_mode": {
    "name": "ipython",
    "version": 3
   },
   "file_extension": ".py",
   "mimetype": "text/x-python",
   "name": "python",
   "nbconvert_exporter": "python",
   "pygments_lexer": "ipython3",
   "version": "3.9.12"
  }
 },
 "nbformat": 4,
 "nbformat_minor": 5
}
