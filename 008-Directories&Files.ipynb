{
 "cells": [
  {
   "cell_type": "code",
   "execution_count": 1,
   "id": "191b7aee",
   "metadata": {},
   "outputs": [],
   "source": [
    "file_object=open(\"myfile.text\",\"w\")\n",
    "file_object.write(\"City\\n\")\n",
    "file_object.close()"
   ]
  },
  {
   "cell_type": "code",
   "execution_count": 1,
   "id": "d992abcf",
   "metadata": {},
   "outputs": [],
   "source": [
    "file_object=open(\"myfile.text\",'w')\n",
    "L=[\"Yangon\\n\",'Mandalay\\n',\"Pyay\\n\"]\n",
    "file_object.write(\"City\\n\")\n",
    "file_object.writelines(L)\n",
    "file_object.close()"
   ]
  },
  {
   "cell_type": "code",
   "execution_count": 3,
   "id": "05ec1623",
   "metadata": {},
   "outputs": [],
   "source": [
    "file_object=open(\"myfile.text\",\"a\")\n",
    "file_object.write(\"Bago\\n\")\n",
    "file_object.write(\"Nay Pyi Taw\\n\")\n",
    "file_object.close()"
   ]
  },
  {
   "cell_type": "code",
   "execution_count": 4,
   "id": "03a5726a",
   "metadata": {},
   "outputs": [
    {
     "name": "stdout",
     "output_type": "stream",
     "text": [
      "City\n",
      "Yangon\n",
      "Mandalay\n",
      "Pyay\n",
      "Bago\n",
      "Nay Pyi Taw\n",
      "\n"
     ]
    }
   ],
   "source": [
    "file_object=open(\"myfile.text\",\"r\")\n",
    "print(file_object.read())\n",
    "file_object.close()"
   ]
  },
  {
   "cell_type": "code",
   "execution_count": 5,
   "id": "7806d6f4",
   "metadata": {},
   "outputs": [
    {
     "name": "stdout",
     "output_type": "stream",
     "text": [
      "Ci\n"
     ]
    }
   ],
   "source": [
    "file_object=open(\"myfile.text\",\"r\")\n",
    "print(file_object.read(2))\n",
    "file_object.close()"
   ]
  },
  {
   "cell_type": "code",
   "execution_count": 6,
   "id": "57b1008d",
   "metadata": {},
   "outputs": [
    {
     "name": "stdout",
     "output_type": "stream",
     "text": [
      "City\n",
      "Yango\n"
     ]
    }
   ],
   "source": [
    "file_object=open(\"myfile.text\",\"r\")\n",
    "print(file_object.read(10))\n",
    "file_object.close()"
   ]
  },
  {
   "cell_type": "code",
   "execution_count": 7,
   "id": "42b02d57",
   "metadata": {},
   "outputs": [
    {
     "name": "stdout",
     "output_type": "stream",
     "text": [
      "City\n",
      "\n"
     ]
    }
   ],
   "source": [
    "file_object=open(\"myfile.text\",\"r\")\n",
    "print(file_object.readline())\n",
    "file_object.close()"
   ]
  },
  {
   "cell_type": "code",
   "execution_count": 8,
   "id": "74068649",
   "metadata": {},
   "outputs": [
    {
     "name": "stdout",
     "output_type": "stream",
     "text": [
      "City\n",
      "\n"
     ]
    }
   ],
   "source": [
    "file_object=open(\"myfile.text\",\"r\")\n",
    "print(file_object.readline(10))\n",
    "file_object.close()"
   ]
  },
  {
   "cell_type": "code",
   "execution_count": 9,
   "id": "43be14fc",
   "metadata": {},
   "outputs": [
    {
     "name": "stdout",
     "output_type": "stream",
     "text": [
      "['City\\n', 'Yangon\\n', 'Mandalay\\n', 'Pyay\\n', 'Bago\\n', 'Nay Pyi Taw\\n']\n"
     ]
    }
   ],
   "source": [
    "file_object=open(\"myfile.text\",\"r\")\n",
    "print(file_object.readlines())\n",
    "file_object.close()"
   ]
  },
  {
   "cell_type": "code",
   "execution_count": 10,
   "id": "1a3b502a",
   "metadata": {},
   "outputs": [
    {
     "name": "stdout",
     "output_type": "stream",
     "text": [
      "City\n",
      "Yangon\n",
      "Mandalay\n",
      "Pyay\n",
      "\n"
     ]
    }
   ],
   "source": [
    "file_object=open(\"myfile.text\",\"w+\")\n",
    "L=[\"Yangon\\n\",\"Mandalay\\n\",\"Pyay\\n\"]\n",
    "file_object.write(\"City\\n\")\n",
    "file_object.writelines(L)\n",
    "file_object.seek(0)\n",
    "print(file_object.read())\n",
    "file_object.close()"
   ]
  },
  {
   "cell_type": "code",
   "execution_count": 11,
   "id": "8043a804",
   "metadata": {},
   "outputs": [
    {
     "name": "stdout",
     "output_type": "stream",
     "text": [
      "City\n",
      "Yangon\n",
      "Mandalay\n",
      "Pyay\n",
      "\n",
      "\n"
     ]
    }
   ],
   "source": [
    "file_object=open(\"myfile.text\",\"r+\")\n",
    "print(file_object.read())\n",
    "\n",
    "L=[\"Yangon\\n\",\"Mandalay\\n\",\"Pyay\\n\"]\n",
    "file_object.write(\"City\\n\")\n",
    "file_object.writelines(L)\n",
    "print(file_object.read())\n",
    "file_object.close()"
   ]
  },
  {
   "cell_type": "code",
   "execution_count": null,
   "id": "e7512bd5",
   "metadata": {},
   "outputs": [],
   "source": []
  }
 ],
 "metadata": {
  "kernelspec": {
   "display_name": "Python 3 (ipykernel)",
   "language": "python",
   "name": "python3"
  },
  "language_info": {
   "codemirror_mode": {
    "name": "ipython",
    "version": 3
   },
   "file_extension": ".py",
   "mimetype": "text/x-python",
   "name": "python",
   "nbconvert_exporter": "python",
   "pygments_lexer": "ipython3",
   "version": "3.9.12"
  }
 },
 "nbformat": 4,
 "nbformat_minor": 5
}
