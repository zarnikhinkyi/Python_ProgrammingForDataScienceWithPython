{
 "cells": [
  {
   "cell_type": "code",
   "execution_count": 2,
   "id": "dec0d832",
   "metadata": {},
   "outputs": [
    {
     "data": {
      "text/plain": [
       "'C'"
      ]
     },
     "execution_count": 2,
     "metadata": {},
     "output_type": "execute_result"
    }
   ],
   "source": [
    "string='Cloud Number 9'\n",
    "string[0]"
   ]
  },
  {
   "cell_type": "code",
   "execution_count": 3,
   "id": "86cff82e",
   "metadata": {},
   "outputs": [
    {
     "data": {
      "text/plain": [
       "'l'"
      ]
     },
     "execution_count": 3,
     "metadata": {},
     "output_type": "execute_result"
    }
   ],
   "source": [
    "string[1]"
   ]
  },
  {
   "cell_type": "code",
   "execution_count": 5,
   "id": "c85b409d",
   "metadata": {},
   "outputs": [
    {
     "data": {
      "text/plain": [
       "14"
      ]
     },
     "execution_count": 5,
     "metadata": {},
     "output_type": "execute_result"
    }
   ],
   "source": [
    "len(string)"
   ]
  },
  {
   "cell_type": "code",
   "execution_count": 1,
   "id": "51593fe6",
   "metadata": {},
   "outputs": [
    {
     "ename": "NameError",
     "evalue": "name 'string' is not defined",
     "output_type": "error",
     "traceback": [
      "\u001b[1;31m---------------------------------------------------------------------------\u001b[0m",
      "\u001b[1;31mNameError\u001b[0m                                 Traceback (most recent call last)",
      "Input \u001b[1;32mIn [1]\u001b[0m, in \u001b[0;36m<cell line: 1>\u001b[1;34m()\u001b[0m\n\u001b[1;32m----> 1\u001b[0m \u001b[43mstring\u001b[49m\u001b[38;5;241m.\u001b[39mfind(\u001b[38;5;124m'\u001b[39m\u001b[38;5;124mo\u001b[39m\u001b[38;5;124m'\u001b[39m)\n",
      "\u001b[1;31mNameError\u001b[0m: name 'string' is not defined"
     ]
    }
   ],
   "source": [
    "string.find('o')"
   ]
  },
  {
   "cell_type": "code",
   "execution_count": 8,
   "id": "aa4f6599",
   "metadata": {},
   "outputs": [
    {
     "data": {
      "text/plain": [
       "2"
      ]
     },
     "execution_count": 8,
     "metadata": {},
     "output_type": "execute_result"
    }
   ],
   "source": [
    "string.count('u')"
   ]
  },
  {
   "cell_type": "code",
   "execution_count": 9,
   "id": "61d723a7",
   "metadata": {},
   "outputs": [
    {
     "data": {
      "text/plain": [
       "0"
      ]
     },
     "execution_count": 9,
     "metadata": {},
     "output_type": "execute_result"
    }
   ],
   "source": [
    "string.count('n')"
   ]
  },
  {
   "cell_type": "code",
   "execution_count": 10,
   "id": "4291147f",
   "metadata": {},
   "outputs": [
    {
     "data": {
      "text/plain": [
       "1"
      ]
     },
     "execution_count": 10,
     "metadata": {},
     "output_type": "execute_result"
    }
   ],
   "source": [
    "string.count('N')"
   ]
  },
  {
   "cell_type": "code",
   "execution_count": 11,
   "id": "f1a3ffe6",
   "metadata": {},
   "outputs": [
    {
     "data": {
      "text/plain": [
       "'Cloud'"
      ]
     },
     "execution_count": 11,
     "metadata": {},
     "output_type": "execute_result"
    }
   ],
   "source": [
    "string[0:5]"
   ]
  },
  {
   "cell_type": "code",
   "execution_count": 12,
   "id": "2dd78b6e",
   "metadata": {},
   "outputs": [
    {
     "data": {
      "text/plain": [
       "'Cloud'"
      ]
     },
     "execution_count": 12,
     "metadata": {},
     "output_type": "execute_result"
    }
   ],
   "source": [
    "string[:5]"
   ]
  },
  {
   "cell_type": "code",
   "execution_count": 13,
   "id": "30998422",
   "metadata": {},
   "outputs": [
    {
     "data": {
      "text/plain": [
       "'Num'"
      ]
     },
     "execution_count": 13,
     "metadata": {},
     "output_type": "execute_result"
    }
   ],
   "source": [
    "string[6:9]"
   ]
  },
  {
   "cell_type": "code",
   "execution_count": 14,
   "id": "d3328c54",
   "metadata": {},
   "outputs": [
    {
     "data": {
      "text/plain": [
       "'Number 9'"
      ]
     },
     "execution_count": 14,
     "metadata": {},
     "output_type": "execute_result"
    }
   ],
   "source": [
    "string[6:]"
   ]
  },
  {
   "cell_type": "code",
   "execution_count": 15,
   "id": "fe26b710",
   "metadata": {},
   "outputs": [
    {
     "data": {
      "text/plain": [
       "'Cloud Nu'"
      ]
     },
     "execution_count": 15,
     "metadata": {},
     "output_type": "execute_result"
    }
   ],
   "source": [
    "string[:-6]"
   ]
  },
  {
   "cell_type": "code",
   "execution_count": 16,
   "id": "dc4e8b93",
   "metadata": {},
   "outputs": [
    {
     "data": {
      "text/plain": [
       "'ber 9'"
      ]
     },
     "execution_count": 16,
     "metadata": {},
     "output_type": "execute_result"
    }
   ],
   "source": [
    "string[-5:]"
   ]
  },
  {
   "cell_type": "code",
   "execution_count": 17,
   "id": "ff8e080a",
   "metadata": {},
   "outputs": [
    {
     "data": {
      "text/plain": [
       "['Cloud', 'Number', '9']"
      ]
     },
     "execution_count": 17,
     "metadata": {},
     "output_type": "execute_result"
    }
   ],
   "source": [
    "string.split(' ')"
   ]
  },
  {
   "cell_type": "code",
   "execution_count": 18,
   "id": "0d0e1a64",
   "metadata": {},
   "outputs": [
    {
     "data": {
      "text/plain": [
       "'Cloud Number 7'"
      ]
     },
     "execution_count": 18,
     "metadata": {},
     "output_type": "execute_result"
    }
   ],
   "source": [
    "string.replace('9', '7')"
   ]
  },
  {
   "cell_type": "code",
   "execution_count": 19,
   "id": "59427182",
   "metadata": {},
   "outputs": [
    {
     "data": {
      "text/plain": [
       "'CLOUD NUMBER 9'"
      ]
     },
     "execution_count": 19,
     "metadata": {},
     "output_type": "execute_result"
    }
   ],
   "source": [
    "string.upper()"
   ]
  },
  {
   "cell_type": "code",
   "execution_count": 20,
   "id": "87a465a9",
   "metadata": {},
   "outputs": [
    {
     "data": {
      "text/plain": [
       "'cloud number 9'"
      ]
     },
     "execution_count": 20,
     "metadata": {},
     "output_type": "execute_result"
    }
   ],
   "source": [
    "string.lower()"
   ]
  },
  {
   "cell_type": "code",
   "execution_count": 22,
   "id": "75535718",
   "metadata": {},
   "outputs": [
    {
     "data": {
      "text/plain": [
       "'C-l-o-u-d- -N-u-m-b-e-r- -9'"
      ]
     },
     "execution_count": 22,
     "metadata": {},
     "output_type": "execute_result"
    }
   ],
   "source": [
    "'-'.join(string)"
   ]
  },
  {
   "cell_type": "code",
   "execution_count": 25,
   "id": "5f0be00e",
   "metadata": {},
   "outputs": [
    {
     "data": {
      "text/plain": [
       "True"
      ]
     },
     "execution_count": 25,
     "metadata": {},
     "output_type": "execute_result"
    }
   ],
   "source": [
    "string.startswith('Cloud')"
   ]
  },
  {
   "cell_type": "code",
   "execution_count": 26,
   "id": "ae221ca6",
   "metadata": {},
   "outputs": [
    {
     "data": {
      "text/plain": [
       "'Cloud Number 9'"
      ]
     },
     "execution_count": 26,
     "metadata": {},
     "output_type": "execute_result"
    }
   ],
   "source": [
    "string"
   ]
  },
  {
   "cell_type": "code",
   "execution_count": 28,
   "id": "c7f2cd2f",
   "metadata": {},
   "outputs": [
    {
     "data": {
      "text/plain": [
       "True"
      ]
     },
     "execution_count": 28,
     "metadata": {},
     "output_type": "execute_result"
    }
   ],
   "source": [
    "string.endswith('9')"
   ]
  },
  {
   "cell_type": "code",
   "execution_count": 29,
   "id": "b1c461ac",
   "metadata": {},
   "outputs": [
    {
     "data": {
      "text/plain": [
       "False"
      ]
     },
     "execution_count": 29,
     "metadata": {},
     "output_type": "execute_result"
    }
   ],
   "source": [
    "string.isalnum()"
   ]
  },
  {
   "cell_type": "code",
   "execution_count": 30,
   "id": "5b6f979f",
   "metadata": {},
   "outputs": [
    {
     "data": {
      "text/plain": [
       "False"
      ]
     },
     "execution_count": 30,
     "metadata": {},
     "output_type": "execute_result"
    }
   ],
   "source": [
    "string.isdigit()"
   ]
  },
  {
   "cell_type": "code",
   "execution_count": 31,
   "id": "4f4d7cc2",
   "metadata": {},
   "outputs": [
    {
     "data": {
      "text/plain": [
       "False"
      ]
     },
     "execution_count": 31,
     "metadata": {},
     "output_type": "execute_result"
    }
   ],
   "source": [
    "string.isspace()"
   ]
  },
  {
   "cell_type": "code",
   "execution_count": null,
   "id": "fbc06edc",
   "metadata": {},
   "outputs": [],
   "source": []
  }
 ],
 "metadata": {
  "kernelspec": {
   "display_name": "Python 3 (ipykernel)",
   "language": "python",
   "name": "python3"
  },
  "language_info": {
   "codemirror_mode": {
    "name": "ipython",
    "version": 3
   },
   "file_extension": ".py",
   "mimetype": "text/x-python",
   "name": "python",
   "nbconvert_exporter": "python",
   "pygments_lexer": "ipython3",
   "version": "3.9.12"
  }
 },
 "nbformat": 4,
 "nbformat_minor": 5
}
