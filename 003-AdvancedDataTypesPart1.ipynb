{
 "cells": [
  {
   "cell_type": "code",
   "execution_count": 1,
   "id": "c4f1e6b8",
   "metadata": {},
   "outputs": [
    {
     "data": {
      "text/plain": [
       "'cooking oil'"
      ]
     },
     "execution_count": 1,
     "metadata": {},
     "output_type": "execute_result"
    }
   ],
   "source": [
    "basket=['cooking oil','milk','apple','banana','orange']\n",
    "basket[0]"
   ]
  },
  {
   "cell_type": "code",
   "execution_count": 2,
   "id": "a1a3a8e3",
   "metadata": {},
   "outputs": [
    {
     "data": {
      "text/plain": [
       "'apple'"
      ]
     },
     "execution_count": 2,
     "metadata": {},
     "output_type": "execute_result"
    }
   ],
   "source": [
    "basket[2]"
   ]
  },
  {
   "cell_type": "code",
   "execution_count": 3,
   "id": "eb2ffb34",
   "metadata": {},
   "outputs": [
    {
     "data": {
      "text/plain": [
       "list"
      ]
     },
     "execution_count": 3,
     "metadata": {},
     "output_type": "execute_result"
    }
   ],
   "source": [
    "type(basket)"
   ]
  },
  {
   "cell_type": "code",
   "execution_count": 4,
   "id": "52d28f4d",
   "metadata": {},
   "outputs": [
    {
     "data": {
      "text/plain": [
       "'orange'"
      ]
     },
     "execution_count": 4,
     "metadata": {},
     "output_type": "execute_result"
    }
   ],
   "source": [
    "basket[-1]"
   ]
  },
  {
   "cell_type": "code",
   "execution_count": 5,
   "id": "d54e3e71",
   "metadata": {},
   "outputs": [
    {
     "data": {
      "text/plain": [
       "['cooking oil', 'milk']"
      ]
     },
     "execution_count": 5,
     "metadata": {},
     "output_type": "execute_result"
    }
   ],
   "source": [
    "basket[0:2]"
   ]
  },
  {
   "cell_type": "code",
   "execution_count": 6,
   "id": "8ccf962f",
   "metadata": {},
   "outputs": [
    {
     "data": {
      "text/plain": [
       "True"
      ]
     },
     "execution_count": 6,
     "metadata": {},
     "output_type": "execute_result"
    }
   ],
   "source": [
    "'apple' in basket"
   ]
  },
  {
   "cell_type": "code",
   "execution_count": 8,
   "id": "9c2729a4",
   "metadata": {},
   "outputs": [
    {
     "data": {
      "text/plain": [
       "False"
      ]
     },
     "execution_count": 8,
     "metadata": {},
     "output_type": "execute_result"
    }
   ],
   "source": [
    "'juice' in basket"
   ]
  },
  {
   "cell_type": "code",
   "execution_count": 9,
   "id": "fbc2ea36",
   "metadata": {},
   "outputs": [
    {
     "data": {
      "text/plain": [
       "[1, 'First', 2, 'Second', 1.5, True]"
      ]
     },
     "execution_count": 9,
     "metadata": {},
     "output_type": "execute_result"
    }
   ],
   "source": [
    "various_type=[1,'First',2,'Second',1.5,True]\n",
    "various_type"
   ]
  },
  {
   "cell_type": "code",
   "execution_count": 10,
   "id": "682ceea0",
   "metadata": {},
   "outputs": [
    {
     "data": {
      "text/plain": [
       "5"
      ]
     },
     "execution_count": 10,
     "metadata": {},
     "output_type": "execute_result"
    }
   ],
   "source": [
    "len(basket)"
   ]
  },
  {
   "cell_type": "code",
   "execution_count": 11,
   "id": "20955aa2",
   "metadata": {},
   "outputs": [
    {
     "data": {
      "text/plain": [
       "'orange'"
      ]
     },
     "execution_count": 11,
     "metadata": {},
     "output_type": "execute_result"
    }
   ],
   "source": [
    "max(basket)"
   ]
  },
  {
   "cell_type": "code",
   "execution_count": 12,
   "id": "682d6c06",
   "metadata": {},
   "outputs": [
    {
     "data": {
      "text/plain": [
       "'apple'"
      ]
     },
     "execution_count": 12,
     "metadata": {},
     "output_type": "execute_result"
    }
   ],
   "source": [
    "min(basket)"
   ]
  },
  {
   "cell_type": "code",
   "execution_count": 13,
   "id": "37cad8ad",
   "metadata": {},
   "outputs": [
    {
     "data": {
      "text/plain": [
       "20"
      ]
     },
     "execution_count": 13,
     "metadata": {},
     "output_type": "execute_result"
    }
   ],
   "source": [
    "number_list=[5,3,2,14,13,20,2]\n",
    "max(number_list)"
   ]
  },
  {
   "cell_type": "code",
   "execution_count": 14,
   "id": "57ce1f0d",
   "metadata": {},
   "outputs": [
    {
     "data": {
      "text/plain": [
       "[2, 2, 3, 5, 13, 14, 20]"
      ]
     },
     "execution_count": 14,
     "metadata": {},
     "output_type": "execute_result"
    }
   ],
   "source": [
    "sorted(number_list)"
   ]
  },
  {
   "cell_type": "code",
   "execution_count": 15,
   "id": "eb1e72f9",
   "metadata": {},
   "outputs": [
    {
     "data": {
      "text/plain": [
       "[5, 3, 2, 14, 13, 20, 2]"
      ]
     },
     "execution_count": 15,
     "metadata": {},
     "output_type": "execute_result"
    }
   ],
   "source": [
    "number_list"
   ]
  },
  {
   "cell_type": "code",
   "execution_count": 16,
   "id": "97222e49",
   "metadata": {},
   "outputs": [
    {
     "data": {
      "text/plain": [
       "'cooking oil-milk-apple-banana-orange'"
      ]
     },
     "execution_count": 16,
     "metadata": {},
     "output_type": "execute_result"
    }
   ],
   "source": [
    "'-'.join(basket)"
   ]
  },
  {
   "cell_type": "code",
   "execution_count": 18,
   "id": "1b10e5af",
   "metadata": {},
   "outputs": [
    {
     "data": {
      "text/plain": [
       "['cooking oil', 'milk', 'apple', 'banana', 'orange', 'coconut', 'coconut']"
      ]
     },
     "execution_count": 18,
     "metadata": {},
     "output_type": "execute_result"
    }
   ],
   "source": [
    "basket.append('coconut')\n",
    "basket"
   ]
  },
  {
   "cell_type": "code",
   "execution_count": 26,
   "id": "60e7f892",
   "metadata": {},
   "outputs": [
    {
     "data": {
      "text/plain": [
       "['watermelon',\n",
       " 'watermelon',\n",
       " 'cooking oil',\n",
       " 'milk',\n",
       " 'apple',\n",
       " 'banana',\n",
       " 'orange']"
      ]
     },
     "execution_count": 26,
     "metadata": {},
     "output_type": "execute_result"
    }
   ],
   "source": [
    "basket.insert(0,'watermelon')\n",
    "basket"
   ]
  },
  {
   "cell_type": "code",
   "execution_count": 27,
   "id": "33e41721",
   "metadata": {},
   "outputs": [
    {
     "data": {
      "text/plain": [
       "['watermelon', 'watermelon', 'cooking oil', 'milk', 'apple', 'banana']"
      ]
     },
     "execution_count": 27,
     "metadata": {},
     "output_type": "execute_result"
    }
   ],
   "source": [
    "basket.pop()\n",
    "basket"
   ]
  },
  {
   "cell_type": "code",
   "execution_count": 28,
   "id": "81b00ca7",
   "metadata": {},
   "outputs": [
    {
     "data": {
      "text/plain": [
       "['watermelon', 'cooking oil', 'milk', 'apple', 'banana']"
      ]
     },
     "execution_count": 28,
     "metadata": {},
     "output_type": "execute_result"
    }
   ],
   "source": [
    "basket.pop(1)\n",
    "basket"
   ]
  },
  {
   "cell_type": "code",
   "execution_count": 30,
   "id": "66b66bc7",
   "metadata": {},
   "outputs": [
    {
     "data": {
      "text/plain": [
       "[1, 2, 3, 4, 5, 6]"
      ]
     },
     "execution_count": 30,
     "metadata": {},
     "output_type": "execute_result"
    }
   ],
   "source": [
    "listA=[1,2,3]\n",
    "listB=[4,5,6]\n",
    "listC=listA+listB\n",
    "listC"
   ]
  },
  {
   "cell_type": "code",
   "execution_count": 31,
   "id": "762da0ca",
   "metadata": {},
   "outputs": [
    {
     "data": {
      "text/plain": [
       "[]"
      ]
     },
     "execution_count": 31,
     "metadata": {},
     "output_type": "execute_result"
    }
   ],
   "source": [
    "listC.clear()\n",
    "listC"
   ]
  },
  {
   "cell_type": "code",
   "execution_count": 32,
   "id": "55e165f0",
   "metadata": {},
   "outputs": [
    {
     "ename": "NameError",
     "evalue": "name 'listC' is not defined",
     "output_type": "error",
     "traceback": [
      "\u001b[1;31m---------------------------------------------------------------------------\u001b[0m",
      "\u001b[1;31mNameError\u001b[0m                                 Traceback (most recent call last)",
      "Input \u001b[1;32mIn [32]\u001b[0m, in \u001b[0;36m<cell line: 2>\u001b[1;34m()\u001b[0m\n\u001b[0;32m      1\u001b[0m \u001b[38;5;28;01mdel\u001b[39;00m listC\n\u001b[1;32m----> 2\u001b[0m \u001b[38;5;28mprint\u001b[39m(\u001b[43mlistC\u001b[49m)\n",
      "\u001b[1;31mNameError\u001b[0m: name 'listC' is not defined"
     ]
    }
   ],
   "source": [
    "del listC\n",
    "print(listC)"
   ]
  },
  {
   "cell_type": "code",
   "execution_count": 33,
   "id": "2a55485a",
   "metadata": {},
   "outputs": [
    {
     "data": {
      "text/plain": [
       "('Volvo', 'Honda', 'Audi', 'BMW')"
      ]
     },
     "execution_count": 33,
     "metadata": {},
     "output_type": "execute_result"
    }
   ],
   "source": [
    "garage=('Volvo','Honda','Audi','BMW')\n",
    "garage"
   ]
  },
  {
   "cell_type": "code",
   "execution_count": 34,
   "id": "0c785bc1",
   "metadata": {},
   "outputs": [
    {
     "data": {
      "text/plain": [
       "tuple"
      ]
     },
     "execution_count": 34,
     "metadata": {},
     "output_type": "execute_result"
    }
   ],
   "source": [
    "type(garage)"
   ]
  },
  {
   "cell_type": "code",
   "execution_count": 35,
   "id": "680241a2",
   "metadata": {},
   "outputs": [
    {
     "data": {
      "text/plain": [
       "'Volvo'"
      ]
     },
     "execution_count": 35,
     "metadata": {},
     "output_type": "execute_result"
    }
   ],
   "source": [
    "garage[0]"
   ]
  },
  {
   "cell_type": "code",
   "execution_count": 36,
   "id": "3350687b",
   "metadata": {},
   "outputs": [
    {
     "data": {
      "text/plain": [
       "'BMW'"
      ]
     },
     "execution_count": 36,
     "metadata": {},
     "output_type": "execute_result"
    }
   ],
   "source": [
    "garage[-1]"
   ]
  },
  {
   "cell_type": "code",
   "execution_count": 37,
   "id": "f3188891",
   "metadata": {},
   "outputs": [
    {
     "data": {
      "text/plain": [
       "True"
      ]
     },
     "execution_count": 37,
     "metadata": {},
     "output_type": "execute_result"
    }
   ],
   "source": [
    "'Honda' in garage"
   ]
  },
  {
   "cell_type": "code",
   "execution_count": 39,
   "id": "1060ed97",
   "metadata": {},
   "outputs": [
    {
     "name": "stdout",
     "output_type": "stream",
     "text": [
      "Volvo Honda\n"
     ]
    }
   ],
   "source": [
    "car1,car2,car3,car4=garage\n",
    "print(car1+' '+ car2)"
   ]
  },
  {
   "cell_type": "code",
   "execution_count": 40,
   "id": "734e0c3a",
   "metadata": {},
   "outputs": [
    {
     "name": "stdout",
     "output_type": "stream",
     "text": [
      "Audi BMW\n"
     ]
    }
   ],
   "source": [
    "print(car3+' '+car4)"
   ]
  },
  {
   "cell_type": "code",
   "execution_count": 41,
   "id": "96d51ea9",
   "metadata": {},
   "outputs": [
    {
     "data": {
      "text/plain": [
       "('Volvo', 'Honda', 'Audi', 'BMW')"
      ]
     },
     "execution_count": 41,
     "metadata": {},
     "output_type": "execute_result"
    }
   ],
   "source": [
    "sorted(garage)\n",
    "garage"
   ]
  },
  {
   "cell_type": "code",
   "execution_count": 42,
   "id": "d8d921df",
   "metadata": {},
   "outputs": [
    {
     "ename": "AttributeError",
     "evalue": "'tuple' object has no attribute 'append'",
     "output_type": "error",
     "traceback": [
      "\u001b[1;31m---------------------------------------------------------------------------\u001b[0m",
      "\u001b[1;31mAttributeError\u001b[0m                            Traceback (most recent call last)",
      "Input \u001b[1;32mIn [42]\u001b[0m, in \u001b[0;36m<cell line: 1>\u001b[1;34m()\u001b[0m\n\u001b[1;32m----> 1\u001b[0m \u001b[43mgarage\u001b[49m\u001b[38;5;241;43m.\u001b[39;49m\u001b[43mappend\u001b[49m(\u001b[38;5;124m'\u001b[39m\u001b[38;5;124mMercedes\u001b[39m\u001b[38;5;124m'\u001b[39m)\n",
      "\u001b[1;31mAttributeError\u001b[0m: 'tuple' object has no attribute 'append'"
     ]
    }
   ],
   "source": [
    "garage.append('Mercedes')"
   ]
  },
  {
   "cell_type": "code",
   "execution_count": 43,
   "id": "66b51733",
   "metadata": {},
   "outputs": [
    {
     "data": {
      "text/plain": [
       "['Volvo', 'Honda', 'Audi', 'BMW']"
      ]
     },
     "execution_count": 43,
     "metadata": {},
     "output_type": "execute_result"
    }
   ],
   "source": [
    "garage_list=list(garage)\n",
    "garage_list"
   ]
  },
  {
   "cell_type": "code",
   "execution_count": 44,
   "id": "69327c2e",
   "metadata": {},
   "outputs": [
    {
     "data": {
      "text/plain": [
       "['Audi', 'BMW', 'Honda', 'Volvo']"
      ]
     },
     "execution_count": 44,
     "metadata": {},
     "output_type": "execute_result"
    }
   ],
   "source": [
    "sorted(garage_list)"
   ]
  },
  {
   "cell_type": "code",
   "execution_count": 45,
   "id": "01c6aa80",
   "metadata": {},
   "outputs": [
    {
     "data": {
      "text/plain": [
       "['Volvo', 'Honda', 'Audi', 'BMW', 'Mercedes']"
      ]
     },
     "execution_count": 45,
     "metadata": {},
     "output_type": "execute_result"
    }
   ],
   "source": [
    "garage_list.append('Mercedes')\n",
    "garage_list"
   ]
  },
  {
   "cell_type": "code",
   "execution_count": 46,
   "id": "243de06e",
   "metadata": {},
   "outputs": [
    {
     "data": {
      "text/plain": [
       "('Volvo', 'Honda', 'Audi', 'BMW', 'Mercedes')"
      ]
     },
     "execution_count": 46,
     "metadata": {},
     "output_type": "execute_result"
    }
   ],
   "source": [
    "garage_tuple=tuple(garage_list)\n",
    "garage_tuple"
   ]
  },
  {
   "cell_type": "code",
   "execution_count": 47,
   "id": "3a117c55",
   "metadata": {},
   "outputs": [
    {
     "data": {
      "text/plain": [
       "(1, 'One', 2.5, False)"
      ]
     },
     "execution_count": 47,
     "metadata": {},
     "output_type": "execute_result"
    }
   ],
   "source": [
    "var_tuple=1,'One',2.5,False\n",
    "var_tuple"
   ]
  },
  {
   "cell_type": "code",
   "execution_count": null,
   "id": "654be104",
   "metadata": {},
   "outputs": [],
   "source": []
  }
 ],
 "metadata": {
  "kernelspec": {
   "display_name": "Python 3 (ipykernel)",
   "language": "python",
   "name": "python3"
  },
  "language_info": {
   "codemirror_mode": {
    "name": "ipython",
    "version": 3
   },
   "file_extension": ".py",
   "mimetype": "text/x-python",
   "name": "python",
   "nbconvert_exporter": "python",
   "pygments_lexer": "ipython3",
   "version": "3.9.12"
  }
 },
 "nbformat": 4,
 "nbformat_minor": 5
}
