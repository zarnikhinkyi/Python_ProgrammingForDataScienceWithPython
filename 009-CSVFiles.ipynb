{
 "cells": [
  {
   "cell_type": "code",
   "execution_count": 4,
   "id": "a955a5f8",
   "metadata": {},
   "outputs": [
    {
     "name": "stdout",
     "output_type": "stream",
     "text": [
      "<_csv.reader object at 0x0000015FBC8BA580>\n",
      "['Name', ' Department', ' Salary']\n",
      "[['Soe Soe', ' Engineering', ' 280000'], ['Ko Ko', ' IT', ' 300000'], ['Maung Maung', ' Finance', ' 200000'], ['Hla Hla', ' HR', ' 150000']]\n"
     ]
    }
   ],
   "source": [
    "import csv\n",
    "rows=[]\n",
    "with open('xyz_ltd.csv') as csv_file:\n",
    "    csv_reader=csv.reader(csv_file)\n",
    "    fields=next(csv_reader)\n",
    "    for row in csv_reader:\n",
    "        rows.append(row)\n",
    "print(csv_reader)\n",
    "print(fields)\n",
    "print(rows)"
   ]
  },
  {
   "cell_type": "code",
   "execution_count": 5,
   "id": "c130c3f3",
   "metadata": {},
   "outputs": [
    {
     "name": "stdout",
     "output_type": "stream",
     "text": [
      "['Soe Soe', ' Engineering', ' 280000']\n",
      "['Ko Ko', ' IT', ' 300000']\n",
      "['Maung Maung', ' Finance', ' 200000']\n",
      "['Hla Hla', ' HR', ' 150000']\n"
     ]
    }
   ],
   "source": [
    "for r in rows:\n",
    "    print(r)"
   ]
  },
  {
   "cell_type": "code",
   "execution_count": 6,
   "id": "1a432505",
   "metadata": {},
   "outputs": [
    {
     "name": "stdout",
     "output_type": "stream",
     "text": [
      "Soe Soe  Engineering  280000\n",
      "Ko Ko  IT  300000\n",
      "Maung Maung  Finance  200000\n",
      "Hla Hla  HR  150000\n"
     ]
    }
   ],
   "source": [
    "for r in rows:\n",
    "    print(r[0],r[1],r[2])"
   ]
  },
  {
   "cell_type": "code",
   "execution_count": 7,
   "id": "50e55e0f",
   "metadata": {},
   "outputs": [],
   "source": [
    "header=[\"Name\",\"Department\",\"Salary\"]\n",
    "data=[['Aung Aung','Finance',200000],['Ni Ni','HR',1500000]]\n",
    "with open('abc_ltd.csv', mode='w', newline='') as csv_file:\n",
    "    csv_writer=csv.writer(csv_file)\n",
    "    csv_writer.writerow(header)\n",
    "    csv_writer.writerow(['Win Win','Engineering',250000])\n",
    "    csv_writer.writerows(data)"
   ]
  },
  {
   "cell_type": "code",
   "execution_count": 8,
   "id": "2332b9ad",
   "metadata": {},
   "outputs": [],
   "source": [
    "more_data=[['Maung Ba','Finance',205000],['Maung Hla','HR',150000]]\n",
    "with open('abc_ltd.csv', mode='a', newline='') as csv_file:\n",
    "    csv_writer=csv.writer(csv_file)\n",
    "    csv_writer.writerows(more_data)"
   ]
  },
  {
   "cell_type": "code",
   "execution_count": 10,
   "id": "6d155d97",
   "metadata": {},
   "outputs": [],
   "source": [
    "heading=['Name','Department','Salary']\n",
    "\n",
    "with open('dict_format.csv', mode='w', newline='') as csv_file:\n",
    "    csv_writer=csv.DictWriter(csv_file, fieldnames=heading)\n",
    "    csv_writer.writeheader()\n",
    "    csv_writer.writerow({'Name':'Kyi Kyi', 'Department':'Accounting','Salary':150000})\n",
    "    csv_writer.writerow({'Name':'Mu Mu', 'Department':'IT','Salary':150000})"
   ]
  },
  {
   "cell_type": "code",
   "execution_count": 11,
   "id": "744b33a3",
   "metadata": {},
   "outputs": [
    {
     "name": "stdout",
     "output_type": "stream",
     "text": [
      "<_csv.reader object at 0x0000015FBC8BAE80>\n",
      "['Name', 'Department', 'Salary']\n",
      "[['Kyi Kyi', 'Accounting', '150000'], ['Mu Mu', 'IT', '150000']]\n"
     ]
    }
   ],
   "source": [
    "import csv\n",
    "rows=[]\n",
    "with open('dict_format.csv') as csv_file:\n",
    "    csv_reader=csv.reader(csv_file)\n",
    "    fields=next(csv_reader)\n",
    "    for row in csv_reader:\n",
    "        rows.append(row)\n",
    "print(csv_reader)\n",
    "print(fields)\n",
    "print(rows)"
   ]
  },
  {
   "cell_type": "code",
   "execution_count": null,
   "id": "40cdfb2b",
   "metadata": {},
   "outputs": [],
   "source": []
  }
 ],
 "metadata": {
  "kernelspec": {
   "display_name": "Python 3 (ipykernel)",
   "language": "python",
   "name": "python3"
  },
  "language_info": {
   "codemirror_mode": {
    "name": "ipython",
    "version": 3
   },
   "file_extension": ".py",
   "mimetype": "text/x-python",
   "name": "python",
   "nbconvert_exporter": "python",
   "pygments_lexer": "ipython3",
   "version": "3.9.12"
  }
 },
 "nbformat": 4,
 "nbformat_minor": 5
}
