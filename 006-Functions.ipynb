{
 "cells": [
  {
   "cell_type": "code",
   "execution_count": 1,
   "id": "94a006ab",
   "metadata": {},
   "outputs": [
    {
     "name": "stdout",
     "output_type": "stream",
     "text": [
      "Hello\n"
     ]
    }
   ],
   "source": [
    "def say_hello():\n",
    "    print('Hello')\n",
    "say_hello()"
   ]
  },
  {
   "cell_type": "code",
   "execution_count": 2,
   "id": "c72371b7",
   "metadata": {},
   "outputs": [
    {
     "name": "stdout",
     "output_type": "stream",
     "text": [
      "Hello\n",
      "Hello\n",
      "Hello\n"
     ]
    }
   ],
   "source": [
    "say_hello()\n",
    "say_hello()\n",
    "say_hello()"
   ]
  },
  {
   "cell_type": "code",
   "execution_count": 4,
   "id": "f6445fb4",
   "metadata": {},
   "outputs": [
    {
     "name": "stdout",
     "output_type": "stream",
     "text": [
      "23.437499999999996\n"
     ]
    }
   ],
   "source": [
    "def calculate_bmi(weight,height):\n",
    "    print(weight/(height*height))\n",
    "calculate_bmi(60,1.6)"
   ]
  },
  {
   "cell_type": "code",
   "execution_count": 5,
   "id": "a0bb0cb1",
   "metadata": {},
   "outputs": [
    {
     "name": "stdout",
     "output_type": "stream",
     "text": [
      "23.437499999999996\n"
     ]
    }
   ],
   "source": [
    "def calculate_bmi(weight,height=1.6):\n",
    "    print(weight/(height*height))\n",
    "calculate_bmi(60)"
   ]
  },
  {
   "cell_type": "code",
   "execution_count": 8,
   "id": "4d80259e",
   "metadata": {},
   "outputs": [
    {
     "data": {
      "text/plain": [
       "23.437499999999996"
      ]
     },
     "execution_count": 8,
     "metadata": {},
     "output_type": "execute_result"
    }
   ],
   "source": [
    "def calculate_bmi(weight,height):\n",
    "    bmi=weight/(height*height)\n",
    "    return bmi\n",
    "calculate_bmi(60,1.6)"
   ]
  },
  {
   "cell_type": "code",
   "execution_count": 10,
   "id": "75c15187",
   "metadata": {},
   "outputs": [
    {
     "data": {
      "text/plain": [
       "23.437499999999996"
      ]
     },
     "execution_count": 10,
     "metadata": {},
     "output_type": "execute_result"
    }
   ],
   "source": [
    "def calculate_bmi(weight,height):\n",
    "    return weight/(height*height)\n",
    "calculate_bmi(60,1.6)"
   ]
  },
  {
   "cell_type": "code",
   "execution_count": 12,
   "id": "d2d70dec",
   "metadata": {},
   "outputs": [
    {
     "name": "stdout",
     "output_type": "stream",
     "text": [
      "23.437499999999996\n"
     ]
    }
   ],
   "source": [
    "def calculate_bmi(weight,height):\n",
    "    print(weight/(height*height))\n",
    "calculate_bmi(height=1.6,weight=60)"
   ]
  },
  {
   "cell_type": "code",
   "execution_count": 13,
   "id": "f98e7cbb",
   "metadata": {},
   "outputs": [
    {
     "name": "stdout",
     "output_type": "stream",
     "text": [
      "58\n",
      "60\n",
      "55\n"
     ]
    }
   ],
   "source": [
    "students={58:1.5,60:1.6,55:1.7}\n",
    "for s in students:\n",
    "    print(s)"
   ]
  },
  {
   "cell_type": "code",
   "execution_count": 14,
   "id": "5f4d80ed",
   "metadata": {},
   "outputs": [
    {
     "name": "stdout",
     "output_type": "stream",
     "text": [
      "1.5\n",
      "1.6\n",
      "1.7\n"
     ]
    }
   ],
   "source": [
    "students={58:1.5,60:1.6,55:1.7}\n",
    "for s in students:\n",
    "    print(students[s])"
   ]
  },
  {
   "cell_type": "code",
   "execution_count": 15,
   "id": "048ab8e6",
   "metadata": {},
   "outputs": [
    {
     "name": "stdout",
     "output_type": "stream",
     "text": [
      "25.77777777777778\n",
      "23.437499999999996\n",
      "19.031141868512112\n"
     ]
    }
   ],
   "source": [
    "for s in students:\n",
    "    calculate_bmi(s,students[s])"
   ]
  },
  {
   "cell_type": "code",
   "execution_count": 16,
   "id": "7d8ff47f",
   "metadata": {},
   "outputs": [
    {
     "name": "stdout",
     "output_type": "stream",
     "text": [
      "65 1.62\n"
     ]
    }
   ],
   "source": [
    "def change_values(weight,height):\n",
    "    weight=weight+5\n",
    "    height=height+0.02\n",
    "    return weight,height\n",
    "new_weight,new_height=change_values(60,1.6)\n",
    "print(new_weight,new_height)"
   ]
  },
  {
   "cell_type": "code",
   "execution_count": 17,
   "id": "e86b9351",
   "metadata": {},
   "outputs": [
    {
     "name": "stdout",
     "output_type": "stream",
     "text": [
      "10\n"
     ]
    }
   ],
   "source": [
    "def variable_scope():\n",
    "    x=10 #local variable\n",
    "    return x\n",
    "print(variable_scope())"
   ]
  },
  {
   "cell_type": "code",
   "execution_count": 19,
   "id": "8c5ad848",
   "metadata": {},
   "outputs": [
    {
     "name": "stdout",
     "output_type": "stream",
     "text": [
      "10\n",
      "5\n"
     ]
    }
   ],
   "source": [
    "x=5 #glogal variable\n",
    "def variable_scope():\n",
    "    x=10\n",
    "    return x\n",
    "print(variable_scope())\n",
    "print(x)"
   ]
  },
  {
   "cell_type": "code",
   "execution_count": null,
   "id": "654ff09e",
   "metadata": {},
   "outputs": [],
   "source": []
  }
 ],
 "metadata": {
  "kernelspec": {
   "display_name": "Python 3 (ipykernel)",
   "language": "python",
   "name": "python3"
  },
  "language_info": {
   "codemirror_mode": {
    "name": "ipython",
    "version": 3
   },
   "file_extension": ".py",
   "mimetype": "text/x-python",
   "name": "python",
   "nbconvert_exporter": "python",
   "pygments_lexer": "ipython3",
   "version": "3.9.12"
  }
 },
 "nbformat": 4,
 "nbformat_minor": 5
}
