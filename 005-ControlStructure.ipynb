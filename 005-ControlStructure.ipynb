{
 "cells": [
  {
   "cell_type": "code",
   "execution_count": 1,
   "id": "16448d2f",
   "metadata": {},
   "outputs": [
    {
     "name": "stdout",
     "output_type": "stream",
     "text": [
      "Degree\n"
     ]
    },
    {
     "data": {
      "text/plain": [
       "str"
      ]
     },
     "execution_count": 1,
     "metadata": {},
     "output_type": "execute_result"
    }
   ],
   "source": [
    "student='matric pass'\n",
    "if student=='matric pass':\n",
    "    next_course='Degree'\n",
    "print(next_course)\n",
    "type(student)"
   ]
  },
  {
   "cell_type": "code",
   "execution_count": 3,
   "id": "bba0bae1",
   "metadata": {},
   "outputs": [
    {
     "name": "stdout",
     "output_type": "stream",
     "text": [
      "Other\n"
     ]
    }
   ],
   "source": [
    "student='failed'\n",
    "if student=='matric pass':\n",
    "    next_course='Degree'\n",
    "else:\n",
    "    next_course='Other'\n",
    "print(next_course)"
   ]
  },
  {
   "cell_type": "code",
   "execution_count": 4,
   "id": "d608647a",
   "metadata": {},
   "outputs": [
    {
     "name": "stdout",
     "output_type": "stream",
     "text": [
      "Master\n"
     ]
    }
   ],
   "source": [
    "student='Degree pass'\n",
    "if student=='matric pass':\n",
    "    next_course='Degree'\n",
    "elif student=='Degree pass':\n",
    "    next_course='Master'\n",
    "elif student=='Master pass':\n",
    "    next_course='Phd'\n",
    "else:\n",
    "    next_course='Other'\n",
    "print(next_course)"
   ]
  },
  {
   "cell_type": "code",
   "execution_count": 5,
   "id": "6d08b132",
   "metadata": {},
   "outputs": [
    {
     "name": "stdout",
     "output_type": "stream",
     "text": [
      "Credit\n"
     ]
    }
   ],
   "source": [
    "mark=65\n",
    "rank='None'\n",
    "if mark>59 and mark<80:\n",
    "    rank='Credit'\n",
    "print(rank)"
   ]
  },
  {
   "cell_type": "code",
   "execution_count": 6,
   "id": "c03083c7",
   "metadata": {},
   "outputs": [
    {
     "name": "stdout",
     "output_type": "stream",
     "text": [
      "English\n",
      "Maths\n",
      "Science\n",
      "Social\n"
     ]
    }
   ],
   "source": [
    "subjects=['English','Maths','Science','Social']\n",
    "for subject in subjects:\n",
    "    print(subject)"
   ]
  },
  {
   "cell_type": "code",
   "execution_count": null,
   "id": "d6aac0e7",
   "metadata": {},
   "outputs": [],
   "source": []
  }
 ],
 "metadata": {
  "kernelspec": {
   "display_name": "Python 3 (ipykernel)",
   "language": "python",
   "name": "python3"
  },
  "language_info": {
   "codemirror_mode": {
    "name": "ipython",
    "version": 3
   },
   "file_extension": ".py",
   "mimetype": "text/x-python",
   "name": "python",
   "nbconvert_exporter": "python",
   "pygments_lexer": "ipython3",
   "version": "3.9.12"
  }
 },
 "nbformat": 4,
 "nbformat_minor": 5
}
